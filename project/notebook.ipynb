{
 "cells": [
  {
   "cell_type": "code",
   "execution_count": 1,
   "metadata": {},
   "outputs": [],
   "source": [
    "from selenium import webdriver"
   ]
  },
  {
   "cell_type": "code",
   "execution_count": 2,
   "metadata": {},
   "outputs": [],
   "source": [
    "from webdriver_manager.chrome import ChromeDriverManager"
   ]
  },
  {
   "cell_type": "code",
   "execution_count": 3,
   "metadata": {},
   "outputs": [
    {
     "name": "stdout",
     "output_type": "stream",
     "text": [
      "\n"
     ]
    },
    {
     "name": "stderr",
     "output_type": "stream",
     "text": [
      "[WDM] - ====== WebDriver manager ======\n"
     ]
    },
    {
     "name": "stdout",
     "output_type": "stream",
     "text": [
      "2022-07-30 02:55:08,788 INFO ====== WebDriver manager ======\n"
     ]
    },
    {
     "name": "stderr",
     "output_type": "stream",
     "text": [
      "[WDM] - Current google-chrome version is 103.0.5060\n"
     ]
    },
    {
     "name": "stdout",
     "output_type": "stream",
     "text": [
      "2022-07-30 02:55:08,853 INFO Current google-chrome version is 103.0.5060\n"
     ]
    },
    {
     "name": "stderr",
     "output_type": "stream",
     "text": [
      "[WDM] - Get LATEST chromedriver version for 103.0.5060 google-chrome\n"
     ]
    },
    {
     "name": "stdout",
     "output_type": "stream",
     "text": [
      "2022-07-30 02:55:08,857 INFO Get LATEST chromedriver version for 103.0.5060 google-chrome\n"
     ]
    },
    {
     "name": "stderr",
     "output_type": "stream",
     "text": [
      "[WDM] - Driver [/home/keshav/.wdm/drivers/chromedriver/linux64/103.0.5060.134/chromedriver] found in cache\n"
     ]
    },
    {
     "name": "stdout",
     "output_type": "stream",
     "text": [
      "2022-07-30 02:55:09,308 INFO Driver [/home/keshav/.wdm/drivers/chromedriver/linux64/103.0.5060.134/chromedriver] found in cache\n"
     ]
    },
    {
     "name": "stderr",
     "output_type": "stream",
     "text": [
      "/tmp/ipykernel_55147/365059496.py:1: DeprecationWarning: executable_path has been deprecated, please pass in a Service object\n",
      "  driver=webdriver.Chrome(ChromeDriverManager().install())\n"
     ]
    }
   ],
   "source": [
    "driver=webdriver.Chrome(ChromeDriverManager().install())"
   ]
  },
  {
   "cell_type": "code",
   "execution_count": 4,
   "metadata": {},
   "outputs": [],
   "source": [
    "from AnimeProject.Constants import BASE_URL"
   ]
  },
  {
   "cell_type": "code",
   "execution_count": 5,
   "metadata": {},
   "outputs": [
    {
     "data": {
      "text/plain": [
       "'https://animixplay.to'"
      ]
     },
     "execution_count": 5,
     "metadata": {},
     "output_type": "execute_result"
    }
   ],
   "source": [
    "BASE_URL"
   ]
  },
  {
   "cell_type": "code",
   "execution_count": 6,
   "metadata": {},
   "outputs": [],
   "source": [
    "driver.get(BASE_URL)"
   ]
  },
  {
   "cell_type": "code",
   "execution_count": 7,
   "metadata": {},
   "outputs": [],
   "source": [
    "driver.implicitly_wait(10)"
   ]
  },
  {
   "cell_type": "code",
   "execution_count": 8,
   "metadata": {},
   "outputs": [],
   "source": [
    "from selenium.webdriver.common.by import By"
   ]
  },
  {
   "cell_type": "code",
   "execution_count": 9,
   "metadata": {},
   "outputs": [],
   "source": [
    "from selenium.webdriver.common.keys import Keys"
   ]
  },
  {
   "cell_type": "code",
   "execution_count": 10,
   "metadata": {},
   "outputs": [],
   "source": [
    "azlist=driver.find_element(By.XPATH,'//a[@title=\"A-Z List\"]')"
   ]
  },
  {
   "cell_type": "code",
   "execution_count": 11,
   "metadata": {},
   "outputs": [
    {
     "data": {
      "text/plain": [
       "'A-Z List'"
      ]
     },
     "execution_count": 11,
     "metadata": {},
     "output_type": "execute_result"
    }
   ],
   "source": [
    "azlist.get_attribute('innerHTML')"
   ]
  },
  {
   "cell_type": "code",
   "execution_count": 12,
   "metadata": {},
   "outputs": [],
   "source": [
    "azlist.click()"
   ]
  },
  {
   "cell_type": "code",
   "execution_count": 13,
   "metadata": {},
   "outputs": [],
   "source": [
    "animeList=driver.find_elements(By.XPATH,'//*[@id=\"listplace\"]//a[not(*)]')"
   ]
  },
  {
   "cell_type": "code",
   "execution_count": 14,
   "metadata": {},
   "outputs": [
    {
     "data": {
      "text/plain": [
       "1171"
      ]
     },
     "execution_count": 14,
     "metadata": {},
     "output_type": "execute_result"
    }
   ],
   "source": [
    "len(animeList)"
   ]
  },
  {
   "cell_type": "code",
   "execution_count": 15,
   "metadata": {},
   "outputs": [
    {
     "data": {
      "text/plain": [
       "'A Little Princess Sara'"
      ]
     },
     "execution_count": 15,
     "metadata": {},
     "output_type": "execute_result"
    }
   ],
   "source": [
    "animeList[10].get_attribute('innerHTML')"
   ]
  },
  {
   "cell_type": "code",
   "execution_count": 16,
   "metadata": {},
   "outputs": [],
   "source": [
    "l=set()\n",
    "for anime in animeList:\n",
    "    l.add(anime.get_attribute('innerHTML'))"
   ]
  },
  {
   "cell_type": "code",
   "execution_count": 17,
   "metadata": {},
   "outputs": [
    {
     "data": {
      "text/plain": [
       "705"
      ]
     },
     "execution_count": 17,
     "metadata": {},
     "output_type": "execute_result"
    }
   ],
   "source": [
    "len(l)"
   ]
  },
  {
   "cell_type": "code",
   "execution_count": 18,
   "metadata": {},
   "outputs": [
    {
     "data": {
      "text/plain": [
       "{'A Channel',\n",
       " 'A Channel Ova ',\n",
       " 'A Channel Special ',\n",
       " 'A Day Before Us',\n",
       " 'A Disguised Princess',\n",
       " 'A Favorite Marriage is Coming',\n",
       " 'A Kite',\n",
       " 'A Little Princess Sara',\n",
       " 'A Little Snow Fairy Sugar',\n",
       " 'A Piece of Phantasmagoria',\n",
       " 'A Town Where You Live',\n",
       " 'A Useless Onmyoji Family',\n",
       " 'A Wind Named Amnesia',\n",
       " 'A playboy of exorcist',\n",
       " 'A stone-moving quack :The princess wants a divorce',\n",
       " 'A-Channel',\n",
       " 'A-Channel Specials',\n",
       " 'A-Channel: A-Channel+smile',\n",
       " 'A-Channel: Nabe wo Tabeyou',\n",
       " 'A-Girl',\n",
       " 'A.D. Police',\n",
       " 'A.D. Police (TV)',\n",
       " 'A.D. Police Files',\n",
       " 'A.I.C.O. -Incarnation-',\n",
       " 'A.I.C.O.: Incarnation',\n",
       " 'A.LI.CE',\n",
       " 'A3! SEASON AUTUMN &amp; WINTER',\n",
       " 'A3! Season Autumn &amp; Winter',\n",
       " 'A3! Season Spring &amp; Summer',\n",
       " 'ABCiee Shuugyou Nikki',\n",
       " 'ACCA: 13-ku Kansatsu-ka',\n",
       " 'ACCA: 13-ku Kansatsu-ka - Regards',\n",
       " 'ACCA: 13-ku Kansatsu-ka Specials',\n",
       " 'ACTORS: Songs Connection',\n",
       " 'AD Police',\n",
       " 'AI NO KUSABI (1992) (UNCENSORED)',\n",
       " 'AI NO KUSABI (2012) (UNCENSORED)',\n",
       " 'AIKa',\n",
       " 'AIKa R-16 Virgin Mission',\n",
       " 'AIKa R-16: Virgin Mission',\n",
       " 'AIKa Zero Picture Drama',\n",
       " 'AIKa: Special Trial',\n",
       " 'AIKa: ZERO',\n",
       " 'AIKa: ZERO Picture Drama',\n",
       " 'AIR GEAR: Kuro no Hane to Nemuri no Mori - Break on the Sky',\n",
       " 'AKB0048',\n",
       " 'AKB0048 Next Stage',\n",
       " 'AOTU Shijie',\n",
       " 'AOTU Shijie 2',\n",
       " 'AOTU Shijie 3',\n",
       " 'AOTU Shijie 3 Special',\n",
       " 'AOTU Shijie 4',\n",
       " 'ARIA The ANIMATION',\n",
       " 'ARIA The AVVENIRE',\n",
       " 'ARIA The OVA: ARIETTA',\n",
       " 'ARP Backstage Pass',\n",
       " 'ARP Backstage Pass Special',\n",
       " 'AWM Jixian Juji',\n",
       " 'AWOL',\n",
       " 'Aa Harimanada',\n",
       " 'Aa! Megami-sama!',\n",
       " 'Aa! Megami-sama! (2011)',\n",
       " 'Aa! Megami-sama! (TV)',\n",
       " 'Aa! Megami-sama! Movie',\n",
       " 'Aa! Megami-sama!: Chichaitte Koto wa Benri da ne',\n",
       " 'Aa! Megami-sama!: Sorezore no Tsubasa',\n",
       " 'Aa! Megami-sama!: Sorezore no Tsubasa Specials',\n",
       " 'Aa! Megami-sama!: Tatakau Tsubasa',\n",
       " 'Aachi and Ssipak',\n",
       " 'Abarenbou Kishi!! Matsutarou',\n",
       " 'Abarenbou Rikishi!! Matsutarou',\n",
       " 'Abashiri Ikka',\n",
       " 'Abciee Shuugyou Nikki',\n",
       " 'Abducted King Lanling as Movie Emperor',\n",
       " 'Abenobashi',\n",
       " 'Abenobashi Mahou Shoutengai',\n",
       " 'Absolute Duo',\n",
       " 'Accel World',\n",
       " 'Accel World EX',\n",
       " 'Accel World OVA',\n",
       " 'Accel World Ova',\n",
       " 'Accel World Specials',\n",
       " 'Accel World: Acchel World.',\n",
       " 'Accel World: Infinite Burst',\n",
       " 'Accel World: Infinite∞Burst',\n",
       " 'Acchi Kocchi',\n",
       " 'Acchi Kocchi Youchien',\n",
       " 'Acchi Kocchi: Place=Princess',\n",
       " 'Ace wo Nerae!',\n",
       " 'Ace wo Nerae! (1979)',\n",
       " 'Ace wo Nerae! 2',\n",
       " 'Ace wo Nerae!: Final Stage',\n",
       " 'Action Heroine Cheer Fruits',\n",
       " 'Active Raid: Kidou Kyoushuushitsu Dai Hachi Gakari 2nd',\n",
       " 'Active Raid: Kidou Kyoushuushitsu Dai Hakkei',\n",
       " 'Actors: Songs Connection',\n",
       " 'Ad Lib Anime Kenkyuujo',\n",
       " 'Adachi to Shimamura',\n",
       " 'Addiction to wife doting',\n",
       " 'Adesugata Mahou no Sannin Musume',\n",
       " 'Africa no Salaryman',\n",
       " 'Africa no Salaryman (TV)',\n",
       " 'Afro Samurai',\n",
       " 'Afro Samurai: Resurrection',\n",
       " 'Afro-Ken',\n",
       " 'After School',\n",
       " 'After School Pleiades ONA',\n",
       " 'After War Gundam X',\n",
       " 'Against the Sky Supreme',\n",
       " 'Agatha Christie no Meitantei Poirot to Marple',\n",
       " 'Age of Gunslingers Ⅲ: Xue Zu Mi Shi',\n",
       " 'Agent Aika',\n",
       " 'Agent Aika Moving Out',\n",
       " 'Aggressive Retsuko',\n",
       " 'Aggressive Retsuko (2018)',\n",
       " 'Aggressive Retsuko (ONA) 2nd Season',\n",
       " 'Aggressive Retsuko (ONA) 3rd Season',\n",
       " 'Aggressive Retsuko (ONA) 4th Season',\n",
       " 'Aggressive Retsuko (ONA) Season 2',\n",
       " 'Aggressive Retsuko (ONA) Season 3',\n",
       " 'Aggressive Retsuko (ONA) Season 4',\n",
       " 'Aggressive Retsuko: We Wish You A Metal Christmas',\n",
       " 'Aggressive Retsuko: We Wish You a Metal Christmas',\n",
       " 'Agriculture Angel Baraki',\n",
       " 'Aguu: Tensai Ningyou',\n",
       " 'Ah! My Goddess',\n",
       " 'Ah! My Goddess OVA',\n",
       " 'Ah! My Goddess Specials',\n",
       " 'Ah! My Goddess TV Season 1',\n",
       " 'Ah! My Goddess TV Season 2',\n",
       " 'Ah! My Goddess Tatakau Tsubasa',\n",
       " 'Ah! My Goddess The Movie',\n",
       " 'Ah! My Goddess: Everyone Has Wings ',\n",
       " 'Ah! My Goddess: Itsumo Futari De',\n",
       " 'Ah! My Goddess: Itsumo Futari de (OVA 2011)',\n",
       " 'Ah! My Goddess: The Adventures of Mini-Goddess',\n",
       " 'Ah! My Goddess: The Movie',\n",
       " 'Aharen-san wa Hakarenai',\n",
       " 'Ahiru no Sora',\n",
       " 'Aho Girl',\n",
       " 'Aho-Girl',\n",
       " 'Ai City',\n",
       " 'Ai Mai Mi',\n",
       " 'Ai Mai Mi: Mousou Catastrophe',\n",
       " 'Ai Mai Mi: Mousou Catastrophe Special',\n",
       " 'Ai Mai Mi: Surgical Friends',\n",
       " 'Ai Mai Mii: Mousou Catastrophe',\n",
       " 'Ai Mai Mii: Mousou Catastrophe Special',\n",
       " 'Ai Mai Mii: Surgical Friends',\n",
       " 'Ai Mai! Moe Can Change!',\n",
       " 'Ai Monogatari: 9 Love Stories',\n",
       " 'Ai Monogatari: 9 Love Stories\\t',\n",
       " 'Ai Shite Night',\n",
       " 'Ai Shoujo Pollyanna Story',\n",
       " 'Ai Tenchi Muyo!',\n",
       " 'Ai Tenchi Muyou!',\n",
       " 'Ai Yori Aoshi',\n",
       " 'Ai Yori Aoshi Enishi',\n",
       " 'Ai Yori Aoshi Special',\n",
       " 'Ai Yori Aoshi: Enishi',\n",
       " 'Ai Yori Aoshi: Enishi - Miyuki',\n",
       " 'Ai Yori Aoshi: Enishi: Miyuki',\n",
       " 'Ai Yori Aoshi: Yumegatari',\n",
       " 'Ai no Gakkou Cuore Monogatari',\n",
       " 'Ai no Kusabi Ova',\n",
       " 'Ai no Utagoe wo Kikasete',\n",
       " 'Ai no Wakakusa Monogatari',\n",
       " 'Ai no Wakakusa Yama Monogatari',\n",
       " 'Ai to Yuuki no Pig Girl Tonde Buurin',\n",
       " 'Ai to Yuuto: Hajimete no Otsukai',\n",
       " 'Aika Zero OVA',\n",
       " 'Aikatsu Friends!',\n",
       " 'Aikatsu Friends!: Kagayaki no Jewel',\n",
       " 'Aikatsu Planet!',\n",
       " 'Aikatsu Stars!',\n",
       " 'Aikatsu Stars! Hoshi no Tsubasa',\n",
       " 'Aikatsu Stars! Movie',\n",
       " 'Aikatsu on Parade!',\n",
       " 'Aikatsu on Parade! (ONA)',\n",
       " 'Aikatsu!',\n",
       " 'Aikatsu! 2',\n",
       " 'Aikatsu! 3',\n",
       " 'Aikatsu! 4',\n",
       " 'Aikatsu! Movie',\n",
       " 'Aikatsu! Music Award: Minna de Shou wo MoracchaimaShow!',\n",
       " 'Aikatsu! Nerawareta Mahou no Aikatsu! Card',\n",
       " 'Aikatsu!: Nerawareta Mahou no Aikatsu! Card',\n",
       " 'Air',\n",
       " 'Air Gear',\n",
       " 'Air Gear OVA',\n",
       " 'Air Gear Special',\n",
       " 'Air Gear: Kuro no Hane to Nemuri no Mori - Break on the Sky',\n",
       " 'Air In Summer Special Part',\n",
       " 'Air Master',\n",
       " 'Air Movie',\n",
       " 'Air OVA',\n",
       " 'Air TV',\n",
       " 'Air The Movie',\n",
       " 'Air in Summer',\n",
       " 'Aishen Qiaokeli-ing...',\n",
       " 'Aishen Qiaokeli-ing... 2nd Season',\n",
       " 'Aishen Qiaokeli-ing...II',\n",
       " 'Aishite Knight',\n",
       " 'Aishiteruze Baby',\n",
       " 'Aiura',\n",
       " 'Aiyou de Mishi',\n",
       " 'Ajimu Kaigan Monogatari',\n",
       " 'Ajimu: Kaigan Monogatari',\n",
       " 'Ajin',\n",
       " 'Ajin 2nd Season',\n",
       " 'Ajin OVA',\n",
       " 'Ajin Part 1: Shoudou',\n",
       " 'Ajin Season 2',\n",
       " 'AkaKill! Gekijou',\n",
       " 'Akachan Honbuchou',\n",
       " 'Akachan to Boku',\n",
       " 'Akadou Suzunosuke',\n",
       " 'Akagami no Shirayuki-hime',\n",
       " 'Akagami no Shirayuki-hime 2nd Season',\n",
       " 'Akagami no Shirayuki-hime: Nandemonai Takaramono, Kono Page',\n",
       " 'Akagami no Shirayukihime',\n",
       " 'Akage no Anne',\n",
       " 'Akage no Anne: Green Gables e no Michi',\n",
       " 'Akagi',\n",
       " 'Akahori Gedou Hour Rabuge',\n",
       " 'Akai Hayate',\n",
       " 'Akai Kiba: Blue Sonnet',\n",
       " 'Akai Koudan Zillion',\n",
       " 'Akai Koudan Zillion: Utahime Yakyoku',\n",
       " 'Akame ga Kill!',\n",
       " 'Akame ga Kill! Recap',\n",
       " 'Akame ga Kill! Theater',\n",
       " 'Akane Iro ni Somaru Saka',\n",
       " 'Akane Iro ni Somaru Saka: Hardcore',\n",
       " 'Akane Maniax',\n",
       " 'Akaneiro ni Somaru Saka',\n",
       " 'Akaneiro ni Somaru Saka: Hardcore',\n",
       " 'Akanesasu Shoujo',\n",
       " 'Akatsuki no Yona',\n",
       " 'Akatsuki no Yona OVA',\n",
       " 'Akatsuki no Yona: Sono Se niwa',\n",
       " 'Akazukin Cha Cha',\n",
       " 'Akazukin Chacha',\n",
       " 'Akazukin Chacha OVA',\n",
       " 'Akebi-chan no Sailor-fuku',\n",
       " 'Aki no Kanade',\n",
       " 'Aki-Sora',\n",
       " 'Aki-Sora: Yume no Naka',\n",
       " 'Akiba Maid Sensou',\n",
       " \"Akiba's Trip The Animation\",\n",
       " 'Akiba-chan',\n",
       " 'Akihabara Dennou-gumi',\n",
       " 'Akihabara Dennou-gumi: 2011-nen no Natsuyasumi',\n",
       " 'Akikan',\n",
       " 'Akikan OVA',\n",
       " 'Akikan!',\n",
       " 'Akikan! OVA',\n",
       " 'Akikan!: Kan Ippatsu!? Onsen Panic',\n",
       " 'Akira',\n",
       " 'Akkun to Kanojo',\n",
       " 'Aku no Hana',\n",
       " 'Akubi wo Suru ni wa Wake ga Aru',\n",
       " 'Akudama Drive',\n",
       " 'Akuma no Memumemu-chan',\n",
       " 'Akuma no Riddle',\n",
       " 'Akuma no Riddle: Shousha wa Dare? Nukiuchi Test',\n",
       " 'Akuma-kun (Movie)',\n",
       " 'Akuma-kun (ONA)',\n",
       " 'Akuma-kun: Youkoso Akuma Land e!!',\n",
       " 'Akuyaku Reijou nanode Last Boss wo Kattemimashita',\n",
       " 'Al Caral no Isan',\n",
       " 'Aldnoah Zero',\n",
       " 'Aldnoah.Zero',\n",
       " 'Aldnoah.Zero 2nd Season',\n",
       " 'Alexander Senki',\n",
       " 'Ali Baba to 40-hiki no Touzoku',\n",
       " 'Alice Academy',\n",
       " 'Alice Gear Aegis',\n",
       " 'Alice in Cyberland',\n",
       " 'Alice in Deadly School',\n",
       " 'Alice in the Country of Hearts',\n",
       " 'Alice or Alice: Siscon Niisan to Futago no Imouto',\n",
       " 'Alice to Therese no Maboroshi Koujou',\n",
       " 'Alice to Zouroku',\n",
       " 'Alice to Zouroku Special',\n",
       " 'Alien 9',\n",
       " 'All Out!!',\n",
       " 'All Purpose Cat Girl Nuku Nuku Dash',\n",
       " 'All Purpose Cat Girl Nuku Nuku OVA',\n",
       " 'All Purpose Cat Girl Nuku Nuku TV',\n",
       " 'All Purpose Cat Girl Nuku Nuku TV Specials',\n",
       " 'All That Gundam',\n",
       " 'All-Free kono Natsu Ichioshi Monogatari Campaign Kokuchi Douga',\n",
       " 'Allison &amp; Lillia',\n",
       " 'Allison and Lillia',\n",
       " 'Almighty Master',\n",
       " 'Alps Monogatari: Watashi no Annette',\n",
       " 'Alps Stories: My Annette',\n",
       " 'Alps no Shoujo Heidi',\n",
       " 'Alps no Shoujo Heidi (1979)',\n",
       " 'Alps no Shoujo Heidi: Alm no Yama-hen',\n",
       " 'Alps no Shoujo Heidi: Heidi to Clara-hen',\n",
       " 'Altered Carbon: Resleeved',\n",
       " 'Altered Carbon: Resleeved\\t',\n",
       " 'Always My Santa',\n",
       " 'Amaama to Inazuma',\n",
       " 'Amada Anime Series: Super Mario Brothers',\n",
       " 'Amaenaide yo!!',\n",
       " 'Amaenaide yo!! Katsu!!: Damasarenaide yo!!',\n",
       " 'Amaenaideyo',\n",
       " 'Amaenaideyo Katsu',\n",
       " 'Amagami SS',\n",
       " 'Amagami SS OVA',\n",
       " 'Amagami SS plus',\n",
       " 'Amagami SS plus OVA',\n",
       " 'Amagami SS+ Plus',\n",
       " 'Amagami SS+ Plus Picture Drama',\n",
       " 'Amagami SS+ Plus Specials',\n",
       " 'Amagami SS+ Plus: Extra Episode+ Plus',\n",
       " 'Amagami SS+ plus',\n",
       " 'Amagami SS: Imouto',\n",
       " 'Amagi Brilliant Park',\n",
       " 'Amagi Brilliant Park OVA',\n",
       " 'Amagi Brilliant Park Specials',\n",
       " 'Amagi Brilliant Park: Nonbirishiteiru Hima ga Nai!',\n",
       " 'Amagi Brilliant Park: Wakuwaku Mini Theater Rakugaki Backstage',\n",
       " 'Amai Choubatsu: Watashi wa Kanshu Senyou Pet (Uncensored)',\n",
       " 'Amanchu!',\n",
       " 'Amanchu! Advance',\n",
       " 'Amanchu! Special',\n",
       " 'Amatsuki',\n",
       " 'Amazing Nurse Nanako',\n",
       " 'Amazing Stranger',\n",
       " 'Ame wo Tsugeru Hyouryuu Danchi',\n",
       " 'Ame-iro Cocoa',\n",
       " 'Ame-iro Cocoa Series: Ame-con!!',\n",
       " 'Ame-iro Cocoa in Hawaii',\n",
       " 'Ame-iro Cocoa: Rainy Color e Youkoso!',\n",
       " 'Ame-iro Cocoa: Side G',\n",
       " 'Amefuri Kozou',\n",
       " 'American Dragon Jake Long',\n",
       " 'American Dragon Jake Long Season 2',\n",
       " 'Amnesia',\n",
       " 'Amnesia OVA',\n",
       " 'Amon Saga',\n",
       " 'Amon The Apocalypse of Devilman',\n",
       " 'Amon: Devilman Mokushiroku',\n",
       " 'Amon: The Apocalypse of Devilman',\n",
       " 'Amrita no Kyouen',\n",
       " 'Amuri in Star Ocean',\n",
       " 'An Jie Shen Shi',\n",
       " 'Ancien to Mahou no Tablet: Mou Hitotsu no Hirune Hime',\n",
       " 'Ancient Martial Artist in the City',\n",
       " 'And2! And2!',\n",
       " 'Android Ana Maico 2010',\n",
       " 'Ane Log',\n",
       " 'Ane Log Specials',\n",
       " 'Ane Log: Moyako Nee-san no Tomaranai Monologue',\n",
       " 'Ane Log: Moyako Neesan no Honpen wo Tobidashite Tomaranai Monologue',\n",
       " 'Ane Log: Moyako Neesan no Honpen wo Tobidashite Tomaranai Monologue Specials',\n",
       " 'Ane Naru Mono',\n",
       " 'Ange Vierge',\n",
       " 'Angel Beats',\n",
       " 'Angel Beats!',\n",
       " 'Angel Beats! Special',\n",
       " 'Angel Beats!: Another Epilogue',\n",
       " 'Angel Cop',\n",
       " 'Angel Cop ',\n",
       " 'Angel Densetsu',\n",
       " 'Angel Egg',\n",
       " 'Angel Feather',\n",
       " 'Angel Heart',\n",
       " 'Angel Links',\n",
       " 'Angel Sanctuary',\n",
       " 'Angel Tales',\n",
       " 'Angel Tales Chu',\n",
       " \"Angel's Egg\",\n",
       " \"Angel's Feather\",\n",
       " \"Angel's Tail (Otogi Story Tenshi no Shippo)\",\n",
       " 'Angelic Layer',\n",
       " 'Angelic Layer ',\n",
       " 'Angelique',\n",
       " 'Angelique Kagayaki no Ashita',\n",
       " 'Angelique Kagayaki no Ashita OVA',\n",
       " 'Angelique OVA',\n",
       " 'Angelique when the Heart Awakens',\n",
       " 'Angelique when the Heart Awakens OVA',\n",
       " 'Angelique: Shiroi Tsubasa no Memoire',\n",
       " 'Angolmois: Genkou Kassenki',\n",
       " 'Ani Tore! EX',\n",
       " 'Ani ni Tsukeru Kusuri wa Nai!',\n",
       " 'Ani ni Tsukeru Kusuri wa Nai! 2',\n",
       " 'Ani ni Tsukeru Kusuri wa Nai! 3',\n",
       " 'Ani ni Tsukeru Kusuri wa Nai! 4',\n",
       " 'Ani ni Tsukeru Kusuri wa Nai! 5',\n",
       " 'Ani x Para: Anata no Hero wa Dare desu ka',\n",
       " 'Ani*Kuri15',\n",
       " 'Anima Yell!',\n",
       " 'Animal Crossing',\n",
       " 'Animal Tantei Kiruminzoo',\n",
       " 'Animal Yokochou (2005)',\n",
       " 'Animation Kapibara-san',\n",
       " 'Animation Runner Kuromi',\n",
       " 'Animation Runner Kuromi 2',\n",
       " 'Anime Kapibara-san',\n",
       " 'Anime Mirai 2013',\n",
       " 'Anime Mirai 2014',\n",
       " 'Anime Sanjushi',\n",
       " 'Anime Sanjuushi',\n",
       " 'Anime Sanjuushi: Aramis no Bouken',\n",
       " 'Anime de Wakaru Shinryounaika',\n",
       " 'Animegataris',\n",
       " 'Animentary: Ketsudan',\n",
       " 'Anitore! EX',\n",
       " 'Anitore! XX',\n",
       " 'Anitore! XX: Hitotsu Yane no Shita de',\n",
       " 'Anju to Zushiou Maru',\n",
       " 'Anju to Zushioumaru',\n",
       " 'Ankoku Cat',\n",
       " 'Ankoku Shindenshou Takegami',\n",
       " 'Anne Happy♪',\n",
       " 'Ano Hi Mita Hana no Namae o Bokutachi wa Mada Shiranai',\n",
       " 'Ano Hi Mita Hana no Namae wo Bokutachi wa Mada Shiranai. Movie',\n",
       " 'Ano Hi Mita Hana no Namae wo Bokutachi wa Mada Shiranai.: Menma e no Tegami',\n",
       " 'Ano Hi no Kanojo-tachi',\n",
       " 'Ano Hi no Kokoro wo Toraete',\n",
       " 'Ano Natsu de Matteru',\n",
       " 'Ano Natsu de Matteru Special',\n",
       " 'Ano Natsu de Matteru: Bokutachi wa Koukou Saigo no Natsu wo Sugoshinagara, Ano Natsu de Matteru.',\n",
       " 'AnoHana',\n",
       " 'AnoHana The Movie',\n",
       " 'Anohana',\n",
       " 'Another',\n",
       " 'Another (Anime)',\n",
       " 'Another OVA',\n",
       " 'Another World',\n",
       " 'Another: The Other: Inga',\n",
       " 'Ansatsu Kyoushitsu',\n",
       " 'Ansatsu Kyoushitsu (OVA)',\n",
       " 'Ansatsu Kyoushitsu (TV)',\n",
       " 'Ansatsu Kyoushitsu (TV) 2nd Season',\n",
       " 'Ansatsu Kyoushitsu OVA',\n",
       " 'Ansatsu Kyoushitsu Season 2',\n",
       " 'Ansatsu Kyoushitsu: 365-nichi no Jikan',\n",
       " 'Ansatsu Kyoushitsu: Jump Festa 2013 Special',\n",
       " 'Ansatsu Kyoushitsu: episode:0 Deai no Jikan',\n",
       " 'Antique Bakery',\n",
       " 'Anyamal Tantei Kiruminzoo',\n",
       " 'Anyamaru Tantei Kiruminzuu',\n",
       " 'Ao Ashi',\n",
       " 'Ao Haru Ride',\n",
       " 'Ao Haru Ride OVA',\n",
       " 'Ao Haru Ride: Unwritten',\n",
       " 'Ao Oni The Animation',\n",
       " 'Ao Oni The Animation (Movie)',\n",
       " 'Ao Oni: The Animation',\n",
       " 'Ao no 6-gou',\n",
       " 'Ao no Exorcist',\n",
       " 'Ao no Exorcist ',\n",
       " 'Ao no Exorcist Movie',\n",
       " 'Ao no Exorcist OVA',\n",
       " 'Ao no Exorcist Specials',\n",
       " 'Ao no Exorcist: Kuro no Iede',\n",
       " 'Ao no Exorcist: Kuro no Iede OVA',\n",
       " 'Ao no Exorcist: Kyoto Fujouou-hen',\n",
       " 'Ao no Exorcist: Kyoto Fujouou-hen OVA',\n",
       " 'Ao no Exorcist: Ura Ex',\n",
       " 'Ao no Kanata no Four Rhythm',\n",
       " 'Ao no Orchestra',\n",
       " 'Aoao Dai Bu',\n",
       " 'Aoharu x Kikanjuu',\n",
       " 'Aoharu x Kikanjuu Special',\n",
       " 'Aoharu x Kikanjuu: Kemono-tachi no Senjou da na!',\n",
       " 'Aoi Blink',\n",
       " 'Aoi Bungaku ',\n",
       " 'Aoi Bungaku Series',\n",
       " 'Aoi Hana',\n",
       " 'Aoi Hitomi no Onnanoko no Ohanashi',\n",
       " 'Aoi Sekai no Chuushin de',\n",
       " 'Aoi Umi no Tristia',\n",
       " 'Aoki Densetsu Shoot',\n",
       " 'Aoki Densetsu Shoot!',\n",
       " 'Aoki Densetsu Shoot! (Movie)',\n",
       " 'Aoki Hagane no Arpeggio: Ars Nova',\n",
       " 'Aoki Hagane no Arpeggio: Ars Nova Cadenza',\n",
       " 'Aoki Hagane no Arpeggio: Ars Nova DC',\n",
       " 'Aoki Ryuusei SPT Layzner',\n",
       " 'Aoki Ryuusei SPT Layzner OVA',\n",
       " 'Aoki Uru',\n",
       " 'Aozora Shoujo-tai',\n",
       " 'Aozora Shoujotai',\n",
       " 'Apfelland Monogatari',\n",
       " 'Appare-Ranman!',\n",
       " 'Appleseed',\n",
       " 'Appleseed (Movie)',\n",
       " 'Appleseed Alpha',\n",
       " 'Appleseed OVA',\n",
       " 'Appleseed Saga Ex Machina',\n",
       " 'Appleseed XIII',\n",
       " 'Appleseed XIII Movie',\n",
       " 'Appleseed XIII Movie 1: Tartaros (Yuigon)',\n",
       " 'Appleseed XIII Movie 2: Ouranos (Yogen)',\n",
       " 'Appleseed: Ex Machina',\n",
       " 'Aquarian Age',\n",
       " 'Aquarian Age: Sign for Evolution',\n",
       " 'Aquarion',\n",
       " 'Aquarion Evol',\n",
       " 'Aquarion Logos',\n",
       " 'Aquarion Movie: Ippatsu Gyakuten-hen',\n",
       " 'Aquarion OVA',\n",
       " 'Ar Tonelico OVA',\n",
       " 'Ar Tonelico: Sekai no Owari de Utai Tsuzukeru Shoujo',\n",
       " 'Arabian Night: Sindbad no Bouken',\n",
       " 'Arabian Nights: Sindbad no Bouken (TV)',\n",
       " 'Araburu Kisetsu no Otome-domo yo.',\n",
       " 'Arad Senki: Slap Up Party',\n",
       " 'Arad: Suming Zhi Men',\n",
       " 'Aragne no Mushikago',\n",
       " 'Araiguma Rascal',\n",
       " 'Araiya-san!: Ore to Aitsu ga Onnayu de!?',\n",
       " 'Araiya-san!: Ore to Aitsu ga Onnayu de!? (Uncensored)',\n",
       " 'Arakawa Under the Bridge',\n",
       " 'Arakawa Under the Bridge 2',\n",
       " 'Arakawa Under the Bridge x Bridge',\n",
       " 'Arakawa under the Bridge',\n",
       " 'Arakawa under the Bridge x Bridge',\n",
       " 'Arashi no Yoru ni',\n",
       " 'Arashi no Yoru ni: Himitsu no Tomodachi',\n",
       " 'Arata Kangatari',\n",
       " 'Arata naru Sekai: Mirai-hen',\n",
       " \"Arata naru Sekai: World's/Start/Load/End\",\n",
       " 'Arc the Lad',\n",
       " 'Arcade Gamer Fubuki',\n",
       " 'Arcana Famiglia',\n",
       " 'Arcana Famiglia: Capriccio - stile Arcana Famiglia',\n",
       " 'Arcana Famiglia: Capriccio: stile Arcana Famiglia',\n",
       " 'Arcana Famiglia: La Storia Della Arcana Famiglia',\n",
       " 'Area 88',\n",
       " 'Area 88 OVA',\n",
       " 'Area 88 Ova',\n",
       " 'Area no Kishi',\n",
       " 'Arei no Kagami: Way to the Virgin Space',\n",
       " 'Argento Soma',\n",
       " 'Argento Soma Special',\n",
       " 'Argonavis from BanG Dream!',\n",
       " 'Argonavis from BanG Dream!\\t',\n",
       " 'Aria The Avvenire',\n",
       " 'Aria the Animation',\n",
       " 'Aria the Crepuscolo',\n",
       " 'Aria the Natural',\n",
       " 'Aria the Natural OVA',\n",
       " 'Aria the Natural Special',\n",
       " 'Aria the OVA: Arietta',\n",
       " 'Aria the Origination',\n",
       " 'Aria the Origination Picture Drama',\n",
       " 'Aria the Origination Special',\n",
       " 'Aria the Origination: Sono Choppiri Himitsu no Basho ni...',\n",
       " 'Arifureta Shokugyou de Sekai Saikyou',\n",
       " 'Arifureta Shokugyou de Sekai Saikyou 2',\n",
       " 'Arifureta Shokugyou de Sekai Saikyou 2nd Season',\n",
       " 'Arifureta Shokugyou de Sekai Saikyou 2nd Season Special',\n",
       " 'Arifureta Shokugyou de Sekai Saikyou Recap',\n",
       " 'Arifureta Shokugyou de Sekai Saikyou Season 2 Special',\n",
       " 'Arifureta Shokugyou de Sekai Saikyou Specials',\n",
       " 'Arifureta Shokugyou de Sekai Saikyou: Maboroshi no Bouken to Kiseki no Kaigou',\n",
       " 'Arifureta Shokugyou de Sekai Saikyou: Prologue',\n",
       " 'Arion',\n",
       " 'Arjuna',\n",
       " 'Ark',\n",
       " 'Ark (2004)',\n",
       " 'Ark IX',\n",
       " 'Arknights: Reimei Zensou',\n",
       " 'Armed Blue Gunvolt',\n",
       " 'Armitage III',\n",
       " 'Armitage III: Dual-Matrix',\n",
       " 'Armitage III: Polymatrix',\n",
       " 'Armitage: Dual Matrix',\n",
       " 'Armor Hunter Mellowlink',\n",
       " 'Armored Dragon Legend Villgust',\n",
       " 'Armored Trooper Votoms',\n",
       " 'Armored Trooper Votoms Case Irvine',\n",
       " 'Armored Trooper Votoms Finder',\n",
       " 'Armored Trooper Votoms Pailsen Files',\n",
       " 'Armored Trooper Votoms: Alone Again',\n",
       " 'Armored Trooper Votoms: Big Battle',\n",
       " 'Armored Trooper Votoms: Case;IRVINE',\n",
       " 'Armored Trooper Votoms: Finder',\n",
       " 'Armored Trooper Votoms: Pailsen Files',\n",
       " 'Armored Trooper Votoms: Pailsen Files the Movie',\n",
       " 'Armored Trooper Votoms: Phantom Arc',\n",
       " 'Armored Trooper Votoms: Red Shoulder Document',\n",
       " 'Armored Trooper Votoms: Red Shoulder Document - Roots of Treachery',\n",
       " 'Armored Trooper Votoms: Shining Heresy',\n",
       " 'Armored Trooper Votoms: The Last Red Shoulder',\n",
       " 'Arrietty the Borrower',\n",
       " 'Arrow Emblem Grand Prix no Taka',\n",
       " 'Arslan Senki',\n",
       " 'Arslan Senki (TV)',\n",
       " 'Arslan Senki (TV) Gaiden',\n",
       " 'Arslan Senki (TV) OVA',\n",
       " 'Arslan Senki (TV): Fuujin Ranbu',\n",
       " 'Arslan Senki (TV): Tsuioku no Shou: Dakkan no Yaiba',\n",
       " 'Arslan Senki OVA',\n",
       " 'Arslan Senki: Fuujin Ranbu',\n",
       " 'Arslan Senki: Kaki Oroshi 4-Koma Manga no Short Anime',\n",
       " 'Arte',\n",
       " 'Artiswitch',\n",
       " 'Aru Hi Inu no Kuni kara Tegami ga Kite',\n",
       " 'Aru Zombie Shoujo no Sainan',\n",
       " 'Arve Rezzle: Kikaijikake no Yoseitachi',\n",
       " 'Arve Rezzle: Kikaijikake no Yoseitachi (2013)',\n",
       " 'Arve Rezzle: Kikaijikake no Yousei-tachi',\n",
       " 'Asa Made Jugyou Chu (2012)',\n",
       " 'Asa Made Jugyou Chu!',\n",
       " 'Asa made Jugyou Chu!',\n",
       " 'Asagao to Kase-san',\n",
       " 'Asagao to Kase-san.',\n",
       " 'Asagiri no Miko',\n",
       " 'Asako Get You!!',\n",
       " 'Asatir: Mirai no Mukashi Banashi',\n",
       " 'Asatir: Mirai no Mukashibanashi',\n",
       " 'Asatte no Houkou',\n",
       " 'Asatte no Houkou.',\n",
       " 'Ashita Sekai ga Owaru toshitemo',\n",
       " 'Ashita e Attack!',\n",
       " 'Ashita e Free Kick',\n",
       " 'Ashita no Eleven-tachi',\n",
       " 'Ashita no Joe',\n",
       " 'Ashita no Joe 2',\n",
       " 'Ashita no Joe 2 (Movie)',\n",
       " 'Ashita no Joe Pilots',\n",
       " 'Ashita no Nadja',\n",
       " 'Ashley: The growth of monkey king S1',\n",
       " 'Ashley: The growth of monkey king S2',\n",
       " 'Asobi Asobase',\n",
       " 'Asobi Asobase OVA',\n",
       " 'Asobi Asobase Specials',\n",
       " 'Asobi ni Iku yo!',\n",
       " 'Asobi ni Iku yo! OVA',\n",
       " 'Asobi ni Iku yo!: Asobi ni Oide',\n",
       " 'Asobot Senki Gokuu',\n",
       " 'Assassins Pride',\n",
       " 'Assault Lily: Bouquet',\n",
       " 'Assault Lily: Fruits',\n",
       " 'Assemble Insert',\n",
       " 'Astarotte no Omocha!',\n",
       " 'Astarotte no Omocha! EX',\n",
       " 'Astarottes Toy',\n",
       " 'Astarotte’s Toy Ep EX',\n",
       " 'Astro Boy: Tetsuwan Atom',\n",
       " 'Astro Fighter Sunred',\n",
       " 'Astroganger',\n",
       " 'Asu no Yoichi!',\n",
       " 'Asu no Yoichi! ',\n",
       " 'Asura',\n",
       " 'Asura Cryin',\n",
       " 'Asura Cryin 2',\n",
       " \"Asura Cryin'\",\n",
       " \"Asura Cryin' 2\",\n",
       " \"Asura Cryin' Second Season\",\n",
       " 'Atasha Kawajiri Kodama Da yo: Dangerous Lifehacker no Tadareta Seikatsu',\n",
       " 'Atasha Kawajiri Kodama da yo: Dangerous Lifehacker no Tadareta Seikatsu',\n",
       " 'Atlantis: The Lost Empire',\n",
       " 'Atom: The Beginning',\n",
       " 'Attack No.1',\n",
       " 'Attack No.1 (1970)',\n",
       " 'Attack No.1: Namida no Fushichou',\n",
       " 'Attack No.1: Namida no Kaiten Receive',\n",
       " 'Attack No.1: Namida no Sekai Senshuken',\n",
       " 'Attacker You!',\n",
       " 'Aura Battler Dunbine',\n",
       " 'Aura: Maryuuin Kouga Saigo no Tatakai',\n",
       " 'Aura: Maryuuinkouga Saigo no Tatakai',\n",
       " 'Avatar: The Last Airbender',\n",
       " 'Avatar: The Last Airbender: Book 1 - Water',\n",
       " 'Avatar: The Last Airbender: Book 1: Water',\n",
       " 'Avatar: The Last Airbender: Book 2 - Earth',\n",
       " 'Avatar: The Last Airbender: Book 2: Earth',\n",
       " 'Avatar: The Last Airbender: Book 3 - Fire',\n",
       " 'Avatar: The Last Airbender: Book 3: Fire',\n",
       " 'Avatar: The Legend of Korra',\n",
       " 'Avatar: The Legend of Korra Book 2: Spirit',\n",
       " 'Avatar: The Legend of Korra Book 3: Change',\n",
       " 'Avatar: The Legend of Korra Book 4: Balance',\n",
       " 'Avenger',\n",
       " 'Aware! Meisaku-kun',\n",
       " 'Aya to Majo',\n",
       " 'Ayakashi',\n",
       " 'Ayakashi ',\n",
       " 'Ayakashi Japanese Classic Horror',\n",
       " 'Ayakashi Triangle',\n",
       " 'Ayakashi: Japanese Classic Horror',\n",
       " 'Ayane High Kick',\n",
       " 'Ayane’s High Kick',\n",
       " 'Ayashi Ayakashi Inferno OVA ',\n",
       " 'Ayashi no Ceres',\n",
       " 'Ayatsuri Sakon',\n",
       " 'Ayu Mayu Gekijou',\n",
       " 'Azuki-chan (1995)',\n",
       " 'Azumanga Daioh',\n",
       " 'Azumanga Daioh: Gekijou Tanpen',\n",
       " 'Azumanga Web Daioh',\n",
       " 'Azur Lane',\n",
       " 'Azur Lane: Bisoku Zenshin!',\n",
       " 'Azur Lane: Bisoku Zenshin! Hokorashiki Bokou ni Shukusai wo'}"
      ]
     },
     "execution_count": 18,
     "metadata": {},
     "output_type": "execute_result"
    }
   ],
   "source": [
    "l"
   ]
  },
  {
   "cell_type": "code",
   "execution_count": 20,
   "metadata": {},
   "outputs": [],
   "source": [
    "# //button[text()=\"K\"]\n",
    "driver.find_element(By.XPATH,'//button[text()=\"K\"]').click()"
   ]
  },
  {
   "cell_type": "code",
   "execution_count": 21,
   "metadata": {},
   "outputs": [],
   "source": [
    "animeList=driver.find_elements(By.XPATH,'//*[@id=\"listplace\"]//a[not(*)]')"
   ]
  },
  {
   "cell_type": "code",
   "execution_count": 24,
   "metadata": {},
   "outputs": [
    {
     "data": {
      "text/plain": [
       "'K Anime'"
      ]
     },
     "execution_count": 24,
     "metadata": {},
     "output_type": "execute_result"
    }
   ],
   "source": [
    "animeList[0].get_attribute('innerHTML')"
   ]
  },
  {
   "cell_type": "code",
   "execution_count": 25,
   "metadata": {},
   "outputs": [],
   "source": [
    "driver.find_element(By.XPATH,'//div[text()=\"GOGO\"]//a[@title=\"Kimetsu no Yaiba\"]').click()"
   ]
  },
  {
   "cell_type": "code",
   "execution_count": 26,
   "metadata": {},
   "outputs": [],
   "source": [
    "# //button[text()=\"20\"]\n",
    "button=driver.find_element(By.XPATH,'//button[text()=\"20\"]')"
   ]
  },
  {
   "cell_type": "code",
   "execution_count": 27,
   "metadata": {},
   "outputs": [
    {
     "data": {
      "text/plain": [
       "'<button class=\"playbutton btn btn-primary\" onclick=\"openiframe(this,20)\">20</button>'"
      ]
     },
     "execution_count": 27,
     "metadata": {},
     "output_type": "execute_result"
    }
   ],
   "source": [
    "button.get_attribute('outerHTML')"
   ]
  },
  {
   "cell_type": "code",
   "execution_count": 28,
   "metadata": {},
   "outputs": [
    {
     "data": {
      "text/plain": [
       "False"
      ]
     },
     "execution_count": 28,
     "metadata": {},
     "output_type": "execute_result"
    }
   ],
   "source": [
    "button.is_selected()"
   ]
  },
  {
   "cell_type": "code",
   "execution_count": 30,
   "metadata": {},
   "outputs": [
    {
     "ename": "ElementClickInterceptedException",
     "evalue": "Message: element click intercepted: Element <button class=\"playbutton btn btn-primary\" onclick=\"openiframe(this,...)\">20</button> is not clickable at point (176, 568). Other element would receive the click: <div style=\"height: 31.4186px; width: 49.7674px; z-index: 2147483647; cursor: pointer; top: 553.023px; left: 151.872px; position: fixed;\"></div>\n  (Session info: chrome=103.0.5060.134)\nStacktrace:\n#0 0x55bb5771fcd3 <unknown>\n#1 0x55bb57527968 <unknown>\n#2 0x55bb57566675 <unknown>\n#3 0x55bb57564212 <unknown>\n#4 0x55bb57561864 <unknown>\n#5 0x55bb575604a5 <unknown>\n#6 0x55bb57554189 <unknown>\n#7 0x55bb5757cbb2 <unknown>\n#8 0x55bb57553a43 <unknown>\n#9 0x55bb5757ccbe <unknown>\n#10 0x55bb5758fea8 <unknown>\n#11 0x55bb5757caa3 <unknown>\n#12 0x55bb575523fa <unknown>\n#13 0x55bb57553555 <unknown>\n#14 0x55bb577672bd <unknown>\n#15 0x55bb5776b418 <unknown>\n#16 0x55bb5775136e <unknown>\n#17 0x55bb5776c078 <unknown>\n#18 0x55bb57745bb0 <unknown>\n#19 0x55bb57788d58 <unknown>\n#20 0x55bb57788ed8 <unknown>\n#21 0x55bb577a2cfd <unknown>\n#22 0x7f1e30694b43 <unknown>\n",
     "output_type": "error",
     "traceback": [
      "\u001b[0;31m---------------------------------------------------------------------------\u001b[0m",
      "\u001b[0;31mElementClickInterceptedException\u001b[0m          Traceback (most recent call last)",
      "\u001b[0;32m/tmp/ipykernel_55147/3505569028.py\u001b[0m in \u001b[0;36m<cell line: 1>\u001b[0;34m()\u001b[0m\n\u001b[0;32m----> 1\u001b[0;31m \u001b[0mbutton\u001b[0m\u001b[0;34m.\u001b[0m\u001b[0mclick\u001b[0m\u001b[0;34m(\u001b[0m\u001b[0;34m)\u001b[0m\u001b[0;34m\u001b[0m\u001b[0;34m\u001b[0m\u001b[0m\n\u001b[0m",
      "\u001b[0;32m~/.local/lib/python3.10/site-packages/selenium/webdriver/remote/webelement.py\u001b[0m in \u001b[0;36mclick\u001b[0;34m(self)\u001b[0m\n\u001b[1;32m     86\u001b[0m     \u001b[0;32mdef\u001b[0m \u001b[0mclick\u001b[0m\u001b[0;34m(\u001b[0m\u001b[0mself\u001b[0m\u001b[0;34m)\u001b[0m \u001b[0;34m->\u001b[0m \u001b[0;32mNone\u001b[0m\u001b[0;34m:\u001b[0m\u001b[0;34m\u001b[0m\u001b[0;34m\u001b[0m\u001b[0m\n\u001b[1;32m     87\u001b[0m         \u001b[0;34m\"\"\"Clicks the element.\"\"\"\u001b[0m\u001b[0;34m\u001b[0m\u001b[0;34m\u001b[0m\u001b[0m\n\u001b[0;32m---> 88\u001b[0;31m         \u001b[0mself\u001b[0m\u001b[0;34m.\u001b[0m\u001b[0m_execute\u001b[0m\u001b[0;34m(\u001b[0m\u001b[0mCommand\u001b[0m\u001b[0;34m.\u001b[0m\u001b[0mCLICK_ELEMENT\u001b[0m\u001b[0;34m)\u001b[0m\u001b[0;34m\u001b[0m\u001b[0;34m\u001b[0m\u001b[0m\n\u001b[0m\u001b[1;32m     89\u001b[0m \u001b[0;34m\u001b[0m\u001b[0m\n\u001b[1;32m     90\u001b[0m     \u001b[0;32mdef\u001b[0m \u001b[0msubmit\u001b[0m\u001b[0;34m(\u001b[0m\u001b[0mself\u001b[0m\u001b[0;34m)\u001b[0m\u001b[0;34m:\u001b[0m\u001b[0;34m\u001b[0m\u001b[0;34m\u001b[0m\u001b[0m\n",
      "\u001b[0;32m~/.local/lib/python3.10/site-packages/selenium/webdriver/remote/webelement.py\u001b[0m in \u001b[0;36m_execute\u001b[0;34m(self, command, params)\u001b[0m\n\u001b[1;32m    394\u001b[0m             \u001b[0mparams\u001b[0m \u001b[0;34m=\u001b[0m \u001b[0;34m{\u001b[0m\u001b[0;34m}\u001b[0m\u001b[0;34m\u001b[0m\u001b[0;34m\u001b[0m\u001b[0m\n\u001b[1;32m    395\u001b[0m         \u001b[0mparams\u001b[0m\u001b[0;34m[\u001b[0m\u001b[0;34m'id'\u001b[0m\u001b[0;34m]\u001b[0m \u001b[0;34m=\u001b[0m \u001b[0mself\u001b[0m\u001b[0;34m.\u001b[0m\u001b[0m_id\u001b[0m\u001b[0;34m\u001b[0m\u001b[0;34m\u001b[0m\u001b[0m\n\u001b[0;32m--> 396\u001b[0;31m         \u001b[0;32mreturn\u001b[0m \u001b[0mself\u001b[0m\u001b[0;34m.\u001b[0m\u001b[0m_parent\u001b[0m\u001b[0;34m.\u001b[0m\u001b[0mexecute\u001b[0m\u001b[0;34m(\u001b[0m\u001b[0mcommand\u001b[0m\u001b[0;34m,\u001b[0m \u001b[0mparams\u001b[0m\u001b[0;34m)\u001b[0m\u001b[0;34m\u001b[0m\u001b[0;34m\u001b[0m\u001b[0m\n\u001b[0m\u001b[1;32m    397\u001b[0m \u001b[0;34m\u001b[0m\u001b[0m\n\u001b[1;32m    398\u001b[0m     \u001b[0;32mdef\u001b[0m \u001b[0mfind_element\u001b[0m\u001b[0;34m(\u001b[0m\u001b[0mself\u001b[0m\u001b[0;34m,\u001b[0m \u001b[0mby\u001b[0m\u001b[0;34m=\u001b[0m\u001b[0mBy\u001b[0m\u001b[0;34m.\u001b[0m\u001b[0mID\u001b[0m\u001b[0;34m,\u001b[0m \u001b[0mvalue\u001b[0m\u001b[0;34m=\u001b[0m\u001b[0;32mNone\u001b[0m\u001b[0;34m)\u001b[0m \u001b[0;34m->\u001b[0m \u001b[0mWebElement\u001b[0m\u001b[0;34m:\u001b[0m\u001b[0;34m\u001b[0m\u001b[0;34m\u001b[0m\u001b[0m\n",
      "\u001b[0;32m~/.local/lib/python3.10/site-packages/selenium/webdriver/remote/webdriver.py\u001b[0m in \u001b[0;36mexecute\u001b[0;34m(self, driver_command, params)\u001b[0m\n\u001b[1;32m    433\u001b[0m         \u001b[0mresponse\u001b[0m \u001b[0;34m=\u001b[0m \u001b[0mself\u001b[0m\u001b[0;34m.\u001b[0m\u001b[0mcommand_executor\u001b[0m\u001b[0;34m.\u001b[0m\u001b[0mexecute\u001b[0m\u001b[0;34m(\u001b[0m\u001b[0mdriver_command\u001b[0m\u001b[0;34m,\u001b[0m \u001b[0mparams\u001b[0m\u001b[0;34m)\u001b[0m\u001b[0;34m\u001b[0m\u001b[0;34m\u001b[0m\u001b[0m\n\u001b[1;32m    434\u001b[0m         \u001b[0;32mif\u001b[0m \u001b[0mresponse\u001b[0m\u001b[0;34m:\u001b[0m\u001b[0;34m\u001b[0m\u001b[0;34m\u001b[0m\u001b[0m\n\u001b[0;32m--> 435\u001b[0;31m             \u001b[0mself\u001b[0m\u001b[0;34m.\u001b[0m\u001b[0merror_handler\u001b[0m\u001b[0;34m.\u001b[0m\u001b[0mcheck_response\u001b[0m\u001b[0;34m(\u001b[0m\u001b[0mresponse\u001b[0m\u001b[0;34m)\u001b[0m\u001b[0;34m\u001b[0m\u001b[0;34m\u001b[0m\u001b[0m\n\u001b[0m\u001b[1;32m    436\u001b[0m             response['value'] = self._unwrap_value(\n\u001b[1;32m    437\u001b[0m                 response.get('value', None))\n",
      "\u001b[0;32m~/.local/lib/python3.10/site-packages/selenium/webdriver/remote/errorhandler.py\u001b[0m in \u001b[0;36mcheck_response\u001b[0;34m(self, response)\u001b[0m\n\u001b[1;32m    245\u001b[0m                 \u001b[0malert_text\u001b[0m \u001b[0;34m=\u001b[0m \u001b[0mvalue\u001b[0m\u001b[0;34m[\u001b[0m\u001b[0;34m'alert'\u001b[0m\u001b[0;34m]\u001b[0m\u001b[0;34m.\u001b[0m\u001b[0mget\u001b[0m\u001b[0;34m(\u001b[0m\u001b[0;34m'text'\u001b[0m\u001b[0;34m)\u001b[0m\u001b[0;34m\u001b[0m\u001b[0;34m\u001b[0m\u001b[0m\n\u001b[1;32m    246\u001b[0m             \u001b[0;32mraise\u001b[0m \u001b[0mexception_class\u001b[0m\u001b[0;34m(\u001b[0m\u001b[0mmessage\u001b[0m\u001b[0;34m,\u001b[0m \u001b[0mscreen\u001b[0m\u001b[0;34m,\u001b[0m \u001b[0mstacktrace\u001b[0m\u001b[0;34m,\u001b[0m \u001b[0malert_text\u001b[0m\u001b[0;34m)\u001b[0m  \u001b[0;31m# type: ignore[call-arg]  # mypy is not smart enough here\u001b[0m\u001b[0;34m\u001b[0m\u001b[0;34m\u001b[0m\u001b[0m\n\u001b[0;32m--> 247\u001b[0;31m         \u001b[0;32mraise\u001b[0m \u001b[0mexception_class\u001b[0m\u001b[0;34m(\u001b[0m\u001b[0mmessage\u001b[0m\u001b[0;34m,\u001b[0m \u001b[0mscreen\u001b[0m\u001b[0;34m,\u001b[0m \u001b[0mstacktrace\u001b[0m\u001b[0;34m)\u001b[0m\u001b[0;34m\u001b[0m\u001b[0;34m\u001b[0m\u001b[0m\n\u001b[0m\u001b[1;32m    248\u001b[0m \u001b[0;34m\u001b[0m\u001b[0m\n\u001b[1;32m    249\u001b[0m     \u001b[0;32mdef\u001b[0m \u001b[0m_value_or_default\u001b[0m\u001b[0;34m(\u001b[0m\u001b[0mself\u001b[0m\u001b[0;34m,\u001b[0m \u001b[0mobj\u001b[0m\u001b[0;34m:\u001b[0m \u001b[0mMapping\u001b[0m\u001b[0;34m[\u001b[0m\u001b[0m_KT\u001b[0m\u001b[0;34m,\u001b[0m \u001b[0m_VT\u001b[0m\u001b[0;34m]\u001b[0m\u001b[0;34m,\u001b[0m \u001b[0mkey\u001b[0m\u001b[0;34m:\u001b[0m \u001b[0m_KT\u001b[0m\u001b[0;34m,\u001b[0m \u001b[0mdefault\u001b[0m\u001b[0;34m:\u001b[0m \u001b[0m_VT\u001b[0m\u001b[0;34m)\u001b[0m \u001b[0;34m->\u001b[0m \u001b[0m_VT\u001b[0m\u001b[0;34m:\u001b[0m\u001b[0;34m\u001b[0m\u001b[0;34m\u001b[0m\u001b[0m\n",
      "\u001b[0;31mElementClickInterceptedException\u001b[0m: Message: element click intercepted: Element <button class=\"playbutton btn btn-primary\" onclick=\"openiframe(this,...)\">20</button> is not clickable at point (176, 568). Other element would receive the click: <div style=\"height: 31.4186px; width: 49.7674px; z-index: 2147483647; cursor: pointer; top: 553.023px; left: 151.872px; position: fixed;\"></div>\n  (Session info: chrome=103.0.5060.134)\nStacktrace:\n#0 0x55bb5771fcd3 <unknown>\n#1 0x55bb57527968 <unknown>\n#2 0x55bb57566675 <unknown>\n#3 0x55bb57564212 <unknown>\n#4 0x55bb57561864 <unknown>\n#5 0x55bb575604a5 <unknown>\n#6 0x55bb57554189 <unknown>\n#7 0x55bb5757cbb2 <unknown>\n#8 0x55bb57553a43 <unknown>\n#9 0x55bb5757ccbe <unknown>\n#10 0x55bb5758fea8 <unknown>\n#11 0x55bb5757caa3 <unknown>\n#12 0x55bb575523fa <unknown>\n#13 0x55bb57553555 <unknown>\n#14 0x55bb577672bd <unknown>\n#15 0x55bb5776b418 <unknown>\n#16 0x55bb5775136e <unknown>\n#17 0x55bb5776c078 <unknown>\n#18 0x55bb57745bb0 <unknown>\n#19 0x55bb57788d58 <unknown>\n#20 0x55bb57788ed8 <unknown>\n#21 0x55bb577a2cfd <unknown>\n#22 0x7f1e30694b43 <unknown>\n"
     ]
    }
   ],
   "source": [
    "button.click()"
   ]
  },
  {
   "cell_type": "code",
   "execution_count": 42,
   "metadata": {},
   "outputs": [],
   "source": [
    "moreInfo=driver.find_element(By.XPATH,'//*[text()=\"More info\"]')"
   ]
  },
  {
   "cell_type": "code",
   "execution_count": 45,
   "metadata": {},
   "outputs": [
    {
     "data": {
      "text/plain": [
       "'https://animixplay.to/anime/38000'"
      ]
     },
     "execution_count": 45,
     "metadata": {},
     "output_type": "execute_result"
    }
   ],
   "source": [
    "moreInfo.get_attribute('href')"
   ]
  },
  {
   "cell_type": "code",
   "execution_count": 31,
   "metadata": {},
   "outputs": [
    {
     "data": {
      "text/plain": [
       "'https://animixplay.to/list'"
      ]
     },
     "execution_count": 31,
     "metadata": {},
     "output_type": "execute_result"
    }
   ],
   "source": [
    "driver.current_url"
   ]
  },
  {
   "cell_type": "code",
   "execution_count": 48,
   "metadata": {},
   "outputs": [
    {
     "data": {
      "text/plain": [
       "'https://animixplay.to/list'"
      ]
     },
     "execution_count": 48,
     "metadata": {},
     "output_type": "execute_result"
    }
   ],
   "source": [
    "driver.current_url"
   ]
  },
  {
   "cell_type": "code",
   "execution_count": 54,
   "metadata": {},
   "outputs": [],
   "source": [
    "# get one page\n",
    "listplace=driver.find_elements(By.XPATH,'//div[@id=\"listplace\"]/div')"
   ]
  },
  {
   "cell_type": "code",
   "execution_count": 74,
   "metadata": {},
   "outputs": [
    {
     "data": {
      "text/plain": [
       "'<a title=\"K (K-Project) (Dub)\" href=\"/v1/k-k-project-dub\">K (K-Project) <span class=\"dubtag\">[Dub]</span></a>GOGO'"
      ]
     },
     "execution_count": 74,
     "metadata": {},
     "output_type": "execute_result"
    }
   ],
   "source": []
  },
  {
   "cell_type": "code",
   "execution_count": null,
   "metadata": {},
   "outputs": [],
   "source": [
    "l=[]\n",
    "for anime in listplace:\n",
    "    "
   ]
  }
 ],
 "metadata": {
  "kernelspec": {
   "display_name": "Python 3.10.4 64-bit",
   "language": "python",
   "name": "python3"
  },
  "language_info": {
   "codemirror_mode": {
    "name": "ipython",
    "version": 3
   },
   "file_extension": ".py",
   "mimetype": "text/x-python",
   "name": "python",
   "nbconvert_exporter": "python",
   "pygments_lexer": "ipython3",
   "version": "3.10.4"
  },
  "orig_nbformat": 4,
  "vscode": {
   "interpreter": {
    "hash": "916dbcbb3f70747c44a77c7bcd40155683ae19c65e1c03b4aa3499c5328201f1"
   }
  }
 },
 "nbformat": 4,
 "nbformat_minor": 2
}
